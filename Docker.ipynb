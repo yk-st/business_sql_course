{
 "cells": [
  {
   "cell_type": "markdown",
   "metadata": {},
   "source": [
    "# 1. Vsodeのインストール\n",
    "お使いのインストーラーをダウンロードしてインストールしてください   \n",
    "https://code.visualstudio.com/download\n",
    "\n",
    "## Remote Extension \n",
    "以下の拡張機能を入れます  \n",
    "https://marketplace.visualstudio.com/items?itemName=ms-vscode-remote.vscode-remote-extensionpack"
   ]
  },
  {
   "cell_type": "markdown",
   "metadata": {},
   "source": [
    "# 2. Docker Desktopをインストールします\n",
    "\n",
    "ご自身の環境に合わせてインストールください  \n",
    "https://www.docker.com/get-started\n",
    "\n",
    "\n",
    "メモリを6GB~10GBに設定しておくと動作も軽快で便利です  \n",
    "\n",
    "ダッシュボードを開く  \n",
    "![図1.2 Dockerのメモリ設定](images/docker_dashbord.png)\n",
    "\n",
    "歯車マークを押して、設定画面へ移動する  \n",
    "![図1.2 Dockerのメモリ設定](images/docker_memory.png)"
   ]
  },
  {
   "cell_type": "markdown",
   "metadata": {},
   "source": [
    "# 3. VsCodeからコンテナにアクセス\n",
    "VsCodeからコンテナにアクセスを行います(画面は変わったように見えないかもしれないですが変わっています)。\n",
    "\n",
    "以下の画像のボタンからbusiness_sql_courseフォルダを選択します\n",
    "\n",
    "![図1.2 VsCodeからコンテナにリモート接続します](images/docker-remote.png)\n",
    "\n",
    "![図1.2 VsCodeからコンテナにリモート接続します](images/remote_open.png)"
   ]
  },
  {
   "cell_type": "markdown",
   "metadata": {},
   "source": [
    "# MetaBaseにアクセスして、初期設定を行う\n",
    "起動まで時間がかかりますが、1~2分ほどしたら\n",
    "\n",
    "http://localhost:3000\n",
    "\n",
    "にアクセスしてMETABASEを開きます\n",
    "\n"
   ]
  },
  {
   "cell_type": "markdown",
   "metadata": {},
   "source": [
    "# もし起動せず固まってしまった場合\n",
    "お手数ですが以下の手順に沿って、作成し直しをお願いいたします。\n",
    "\n",
    "コンテナを削除する(以下の画像に写っている2つとも削除をお願いします)\n",
    "\n",
    "![図1.2 VsCodeからコンテナにリモート接続します](images/restart.png)\n",
    "\n",
    "「# 3. VsCodeからコンテナにアクセス」を再実行する"
   ]
  }
 ],
 "metadata": {
  "interpreter": {
   "hash": "578f5f657c2fb65ecadb997ad60e5cf2da380ecec34305a6dd913dc5b96e257c"
  },
  "kernelspec": {
   "display_name": "Python 3.9.1 64-bit ('3.9.1': pyenv)",
   "language": "python",
   "name": "python3"
  },
  "language_info": {
   "codemirror_mode": {
    "name": "ipython",
    "version": 3
   },
   "file_extension": ".py",
   "mimetype": "text/x-python",
   "name": "python",
   "nbconvert_exporter": "python",
   "pygments_lexer": "ipython3",
   "version": "3.9.1"
  },
  "orig_nbformat": 4
 },
 "nbformat": 4,
 "nbformat_minor": 2
}
