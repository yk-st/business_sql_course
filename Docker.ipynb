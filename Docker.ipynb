{
 "cells": [
  {
   "cell_type": "markdown",
   "metadata": {},
   "source": [
    "# 1. Vsodeのインストール\n",
    "お使いのインストーラーをダウンロードしてインストールしてください   \n",
    "https://code.visualstudio.com/download\n",
    "\n",
    "## Remote Extension \n",
    "以下の拡張機能を入れます  \n",
    "https://marketplace.visualstudio.com/items?itemName=ms-vscode-remote.vscode-remote-extensionpack"
   ]
  },
  {
   "cell_type": "markdown",
   "metadata": {},
   "source": [
    "# 2. Docker Desktopをインストールします\n",
    "\n",
    "ご自身の環境に合わせてインストールください  \n",
    "https://www.docker.com/get-started\n",
    "\n",
    "\n",
    "メモリを6GB~10GBに設定しておくと動作も軽快で便利です  \n",
    "![図1.2 Dockerのメモリ設定](images/docker_memory.png)"
   ]
  },
  {
   "cell_type": "markdown",
   "metadata": {},
   "source": [
    "# 3. VsCodeからコンテナにアクセス\n",
    "VsCodeからコンテナにアクセスを行います(画面は変わったように見えないかもしれないですが変わっています)。\n",
    "\n",
    "以下の画像のボタンからpyspark_settingsフォルダを選択します\n",
    "\n",
    "![図1.2 VsCodeからコンテナにリモート接続します](images/docker-remote.png)\n",
    "\n",
    "![図1.2 VsCodeからコンテナにリモート接続します](images/remote_open.png)"
   ]
  },
  {
   "cell_type": "markdown",
   "metadata": {},
   "source": [
    "# スタックしてしまった場合\n",
    "お手数ですが何度か再起動をお願いいたします。"
   ]
  }
 ],
 "metadata": {
  "interpreter": {
   "hash": "578f5f657c2fb65ecadb997ad60e5cf2da380ecec34305a6dd913dc5b96e257c"
  },
  "kernelspec": {
   "display_name": "Python 3.9.1 64-bit ('3.9.1': pyenv)",
   "language": "python",
   "name": "python3"
  },
  "language_info": {
   "codemirror_mode": {
    "name": "ipython",
    "version": 3
   },
   "file_extension": ".py",
   "mimetype": "text/x-python",
   "name": "python",
   "nbconvert_exporter": "python",
   "pygments_lexer": "ipython3",
   "version": "3.9.1"
  },
  "orig_nbformat": 4
 },
 "nbformat": 4,
 "nbformat_minor": 2
}
